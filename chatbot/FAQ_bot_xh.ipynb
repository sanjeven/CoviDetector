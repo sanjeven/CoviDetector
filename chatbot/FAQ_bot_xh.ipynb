{
 "cells": [
  {
   "cell_type": "code",
   "execution_count": 2,
   "metadata": {},
   "outputs": [],
   "source": [
    "import chatterbot.corpus\n",
    "from chatterbot import comparisons\n",
    "from chatterbot import response_selection\n",
    "from chatterbot import ChatBot\n",
    "from chatterbot.trainers import ChatterBotCorpusTrainer\n",
    "from chatterbot.trainers import ListTrainer\n",
    "import pandas as pd"
   ]
  },
  {
   "cell_type": "code",
   "execution_count": 4,
   "metadata": {},
   "outputs": [
    {
     "name": "stdout",
     "output_type": "stream",
     "text": [
      "Training greetings.yml: [####################] 100%\n",
      "Hello\n"
     ]
    }
   ],
   "source": [
    "# ===============\n",
    "# 1. Basic Usage\n",
    "# ===============\n",
    "\n",
    "# Create a chatbot called chatbot\n",
    "chatbot = ChatBot('chatbot')\n",
    "\n",
    "# Since chatbot has no knowledge now, we create a new trainer for chatbot\n",
    "# There are several ways to train the chatbot. You can explore them in 'chatterbot.trainers'\n",
    "# ChatterBotCorpusTrainer is one of the trainer classes\n",
    "trainer = ChatterBotCorpusTrainer(chatbot)\n",
    "\n",
    "# Train the chatbot based on the english corpus.\n",
    "# The corpus is given by the Chatterbot package.\n",
    "# You can also create your own corpus.\n",
    "# Once you train the chatbot with this corpus, annotate the below line with '#' preventing from duplicate training\n",
    "trainer.train(\"chatterbot.corpus.english.greetings\")\n",
    "\n",
    "# Get a response to an input statement\n",
    "# If you try to present same questions with several times, you may get different answers. How can it get that?\n",
    "response = chatbot.get_response(\"Hi\")\n",
    "print(response)\n"
   ]
  },
  {
   "cell_type": "code",
   "execution_count": 5,
   "metadata": {},
   "outputs": [
    {
     "name": "stdout",
     "output_type": "stream",
     "text": [
      "How are you doing?\n"
     ]
    }
   ],
   "source": [
    "#\n",
    "# =======================================\n",
    "# 2. Create new conversation for chatbot\n",
    "# =======================================\n",
    "\n",
    "# Let's see what happens when you ask the chatbot -- Is Sam a good guy?\n",
    "response = chatbot.get_response(\"Is Sam a good guy?\")\n",
    "print(response)\n"
   ]
  },
  {
   "cell_type": "code",
   "execution_count": 6,
   "metadata": {},
   "outputs": [
    {
     "name": "stdout",
     "output_type": "stream",
     "text": [
      "List Trainer: [####################] 100%\n",
      "Certainly Yes!\n",
      "Yes\n"
     ]
    }
   ],
   "source": [
    "# It seemly gives a irrelevant answer for the question. Could you figure out why?\n",
    "# That's because in the greeting corpus, no any conversation about if Sam is a good guy.\n",
    "# So we need to train the chatbot again!\n",
    "# This time we use the ListTrainer to train one conversation\n",
    "# Remember annotate the train block after you the chatbot\n",
    "\n",
    "trainer = ListTrainer(chatbot)\n",
    "train_list = [\n",
    "    \"Is Sam a good guy?\",\n",
    "    \"Certainly Yes!\",\n",
    "    \"Does Sam wear glasses?\",\n",
    "    \"Yes\"]\n",
    "\n",
    "trainer.train(train_list)\n",
    "\n",
    "# Let's see what happens this time\n",
    "response = chatbot.get_response(\"Is Sam a good guy?\")\n",
    "print(response)\n",
    "\n",
    "# Also you can ask about if Sam wears glasses\n",
    "response = chatbot.get_response(\"Does Sam wear glasses?\")\n",
    "print(response)\n",
    "\n",
    "# Important note:\n",
    "# When you train the chatbot, the knowledge of the chatbot is stored in the './db.sqlite3'.\n",
    "# So you do not need to train again if you rerun the script next time.\n",
    "# You can also backup the sql file so you can reuse the chatbot in another computer.\n"
   ]
  },
  {
   "cell_type": "code",
   "execution_count": 7,
   "metadata": {},
   "outputs": [
    {
     "name": "stdout",
     "output_type": "stream",
     "text": [
      "1 * 1 + 2 - 3 / 5 = 2.4\n"
     ]
    }
   ],
   "source": [
    "# =======================================\n",
    "# 3. Solve a math problem by chatterbot\n",
    "# =======================================\n",
    "\n",
    "# Add the math logic_adapters into the attribute 'logic_adapters'\n",
    "chatbot = ChatBot('chatbot',\n",
    "                  logic_adapters=[\n",
    "                      'chatterbot.logic.BestMatch',\n",
    "                      'chatterbot.logic.MathematicalEvaluation'\n",
    "                  ])\n",
    "\n",
    "# Try ask the bot a math question!\n",
    "# There are several logic_adapters in the chatterbot.logic package. Try explore for more.\n",
    "response = chatbot.get_response(\"What is 1 * 1 + 2 - 3 / 5?\")\n",
    "print(response)\n"
   ]
  },
  {
   "cell_type": "code",
   "execution_count": 8,
   "metadata": {},
   "outputs": [
    {
     "name": "stdout",
     "output_type": "stream",
     "text": [
      "total 252\r\n",
      "-rw-rw-r-- 1 hongxiaohui hongxiaohui 101748 Nov 10 12:57 'ASD FAQ KB v001.xlsx'\r\n",
      "-rw-r--r-- 1 hongxiaohui hongxiaohui  28672 Nov 10 14:24  db.sqlite3\r\n",
      "-rw-rw-r-- 1 hongxiaohui hongxiaohui  12870 Nov 10 14:22  FAQ_bot.ipynb\r\n",
      "-rw-rw-r-- 1 hongxiaohui hongxiaohui 107500 Nov 10 13:03 'Knowledge FAQ_bot.pptx'\r\n"
     ]
    }
   ],
   "source": [
    "!ls -l"
   ]
  },
  {
   "cell_type": "code",
   "execution_count": 10,
   "metadata": {},
   "outputs": [
    {
     "name": "stdout",
     "output_type": "stream",
     "text": [
      "List Trainer: [####################] 100%\n",
      "According to a 2020 report commissioned by the U.S. Centers for Disease Control and Prevention, approximately one in 54 American children has been diagnosed with autism or a closely related neurodevelopmental disorder—a dramatic increase over the past decade.\n"
     ]
    }
   ],
   "source": [
    "# =======================================================================\n",
    "# 4. Train a ASD FAQBot with conversation in ASD FAQ KB v001.xlsx\n",
    "# =======================================================================\n",
    "\n",
    "# Create a chatbot called chatbot\n",
    "chatbot = ChatBot('chatbot')\n",
    "\n",
    "# Create a ListTrainer for training\n",
    "trainer = ListTrainer(chatbot)\n",
    "\n",
    "# Load the ASD FAQ data and extract the question and answer\n",
    "data = pd.read_excel('./ASD FAQ KB v001.xlsx', sheet_name='FAQ')\n",
    "question = data.get('Queston')\n",
    "answer = data.get('Long_Answer')\n",
    "\n",
    "# Iteratively adding the question and answer\n",
    "train_list = []\n",
    "for i in range(len(question)):\n",
    "    train_list.append(question[i])\n",
    "    train_list.append(answer[i])\n",
    "\n",
    "trainer.train(train_list)\n",
    "\n",
    "# Let's see what happens this time\n",
    "response = chatbot.get_response(\"Common autism\")\n",
    "print(response)\n",
    "\n"
   ]
  },
  {
   "cell_type": "code",
   "execution_count": 12,
   "metadata": {},
   "outputs": [
    {
     "name": "stdout",
     "output_type": "stream",
     "text": [
      "According to a 2020 report commissioned by the U.S. Centers for Disease Control and Prevention, approximately one in 54 American children has been diagnosed with autism or a closely related neurodevelopmental disorder—a dramatic increase over the past decade.\n"
     ]
    }
   ],
   "source": [
    "# Let's see what happens this time\n",
    "response = chatbot.get_response(\"Common autism\")\n",
    "print(response)\n"
   ]
  },
  {
   "cell_type": "code",
   "execution_count": 13,
   "metadata": {},
   "outputs": [
    {
     "name": "stdout",
     "output_type": "stream",
     "text": [
      "If you suspect your child has autism and you do not have a diagnosis yet, don’t wait! Start early intervention. We at Rockmelon believe that as a parent, you know your child best. If you think your child may have a delay or you are in the process of getting a diagnosis there is no harm in getting started early. It is the ‘early’ in early intervention that makes all the difference. If it turns out that your child doesn’t have a developmental delay, many of the skills Rockmelon promotes are applicable to neurotypical children as well.\n"
     ]
    }
   ],
   "source": [
    "# Let's see what happens this time\n",
    "response = chatbot.get_response(\"What's Autism?\")\n",
    "print(response)\n"
   ]
  },
  {
   "cell_type": "code",
   "execution_count": 14,
   "metadata": {},
   "outputs": [
    {
     "name": "stdout",
     "output_type": "stream",
     "text": [
      "Autism is a lifelong condition. Unless there is a specific medical condition causing autism symptoms the concept of cure is not appropriate as autism is a term used to describe a range of developmental conditions with no known cause. It is also the case that individuals with autism may have particular abilities that are of huge benefit to society and may have superior technical, analytical or creative abilities. Where autism represents a disability, appropriate education and support, can reduce or mitigate the adverse effects and children with autism can go on to fulfil their potential. It is important that the individuality and uniqueness of each individual is recognised in the assessment and intervention process See Outcomes and Interventions.\n"
     ]
    }
   ],
   "source": [
    "# Let's see what happens this time\n",
    "response = chatbot.get_response(\"Can autism be cured?\")\n",
    "print(response)\n"
   ]
  },
  {
   "cell_type": "code",
   "execution_count": 15,
   "metadata": {},
   "outputs": [
    {
     "name": "stdout",
     "output_type": "stream",
     "text": [
      "Hi, How is it going?\n"
     ]
    }
   ],
   "source": [
    "# Let's see what happens this time\n",
    "response = chatbot.get_response(\"ASD treatment\")\n",
    "print(response)\n"
   ]
  },
  {
   "cell_type": "code",
   "execution_count": 17,
   "metadata": {},
   "outputs": [
    {
     "name": "stdout",
     "output_type": "stream",
     "text": [
      "List Trainer: [####################] 100%\n",
      "The duration for MTech (full-time) programme is 1 year (i.e. 2 semesters) and the duration for MTech (part-time) programme is 2 years (i.e. 4 semesters).\n"
     ]
    }
   ],
   "source": [
    "# =======================================================================\n",
    "# Train NUS-ISS FAQ with conversation in NUS-ISS FAQ.xlsx\n",
    "# =======================================================================\n",
    "\n",
    "# Create a chatbot called chatbot\n",
    "chatbot = ChatBot('chatbot')\n",
    "\n",
    "# Create a ListTrainer for training\n",
    "trainer = ListTrainer(chatbot)\n",
    "\n",
    "# Load the NUS-ISS FAQ data and extract the question and answer\n",
    "data = pd.read_excel('./NUS-ISS FAQ.xlsx', sheet_name='FAQ')\n",
    "question = data.get('Queston')\n",
    "answer = data.get('Long_Answer')\n",
    "\n",
    "# Iteratively adding the question and answer\n",
    "train_list = []\n",
    "for i in range(len(question)):\n",
    "    train_list.append(question[i])\n",
    "    train_list.append(answer[i])\n",
    "\n",
    "trainer.train(train_list)\n",
    "\n",
    "# Let's see what happens this time\n",
    "response = chatbot.get_response(\"What is the duration for MTech?\")\n",
    "print(response)"
   ]
  },
  {
   "cell_type": "code",
   "execution_count": 7,
   "metadata": {},
   "outputs": [
    {
     "name": "stdout",
     "output_type": "stream",
     "text": [
      "[Q] What is a coronavirus? \n",
      "[A] Coronaviruses are a large family of viruses which may cause illness in animals or humans.  \n",
      "\n",
      "\n",
      "[Q] What is a coronavirus? \n",
      "[A] In humans, several coronaviruses are known to cause respiratory infections ranging from the common cold to more severe diseases \n",
      "\n",
      "\n",
      "[Q] What is COVID-19? \n",
      "[A] COVID-19 is the infectious disease caused by the most recently discovered coronavirus. This new virus and disease were unknown before the outbreak began in Wuhan, China, in December 2019. \n",
      "\n",
      "\n",
      "List Trainer: [####################] 100%\n",
      "Hi! I am NUS-ISS FAQ chatbot. Do you have any questions?\n",
      "Please type your question here(enter bye to exit): What about pregnant women?\n",
      "Can I catch COVID-19 from the feces of someone with the disease?\n"
     ]
    },
    {
     "ename": "KeyboardInterrupt",
     "evalue": "Interrupted by user",
     "output_type": "error",
     "traceback": [
      "\u001b[1;31m---------------------------------------------------------------------------\u001b[0m",
      "\u001b[1;31mKeyboardInterrupt\u001b[0m                         Traceback (most recent call last)",
      "\u001b[1;32m<ipython-input-7-543203e411ae>\u001b[0m in \u001b[0;36m<module>\u001b[1;34m\u001b[0m\n\u001b[0;32m     30\u001b[0m     \u001b[0mresponse\u001b[0m \u001b[1;33m=\u001b[0m \u001b[0miss_chatbot\u001b[0m\u001b[1;33m.\u001b[0m\u001b[0mget_response\u001b[0m\u001b[1;33m(\u001b[0m\u001b[0muser_question\u001b[0m\u001b[1;33m)\u001b[0m\u001b[1;33m\u001b[0m\u001b[1;33m\u001b[0m\u001b[0m\n\u001b[0;32m     31\u001b[0m     \u001b[0mprint\u001b[0m\u001b[1;33m(\u001b[0m\u001b[0mresponse\u001b[0m\u001b[1;33m)\u001b[0m\u001b[1;33m\u001b[0m\u001b[1;33m\u001b[0m\u001b[0m\n\u001b[1;32m---> 32\u001b[1;33m     \u001b[0muser_justify\u001b[0m \u001b[1;33m=\u001b[0m \u001b[0minput\u001b[0m\u001b[1;33m(\u001b[0m\u001b[1;34m\"Are you satisfied with my anwser? (Yes or No, others will exit)\"\u001b[0m\u001b[1;33m)\u001b[0m\u001b[1;33m\u001b[0m\u001b[1;33m\u001b[0m\u001b[0m\n\u001b[0m\u001b[0;32m     33\u001b[0m     \u001b[1;32mif\u001b[0m \u001b[0muser_justify\u001b[0m \u001b[1;33m==\u001b[0m \u001b[1;34m'No'\u001b[0m\u001b[1;33m:\u001b[0m\u001b[1;33m\u001b[0m\u001b[1;33m\u001b[0m\u001b[0m\n\u001b[0;32m     34\u001b[0m         \u001b[0muser_correct\u001b[0m \u001b[1;33m=\u001b[0m \u001b[0minput\u001b[0m\u001b[1;33m(\u001b[0m\u001b[1;34m\"Please input your anwser: \"\u001b[0m\u001b[1;33m)\u001b[0m\u001b[1;33m\u001b[0m\u001b[1;33m\u001b[0m\u001b[0m\n",
      "\u001b[1;32mc:\\users\\hong0\\.conda\\envs\\py36\\lib\\site-packages\\ipykernel\\kernelbase.py\u001b[0m in \u001b[0;36mraw_input\u001b[1;34m(self, prompt)\u001b[0m\n\u001b[0;32m    849\u001b[0m             \u001b[0mself\u001b[0m\u001b[1;33m.\u001b[0m\u001b[0m_parent_ident\u001b[0m\u001b[1;33m,\u001b[0m\u001b[1;33m\u001b[0m\u001b[1;33m\u001b[0m\u001b[0m\n\u001b[0;32m    850\u001b[0m             \u001b[0mself\u001b[0m\u001b[1;33m.\u001b[0m\u001b[0m_parent_header\u001b[0m\u001b[1;33m,\u001b[0m\u001b[1;33m\u001b[0m\u001b[1;33m\u001b[0m\u001b[0m\n\u001b[1;32m--> 851\u001b[1;33m             \u001b[0mpassword\u001b[0m\u001b[1;33m=\u001b[0m\u001b[1;32mFalse\u001b[0m\u001b[1;33m,\u001b[0m\u001b[1;33m\u001b[0m\u001b[1;33m\u001b[0m\u001b[0m\n\u001b[0m\u001b[0;32m    852\u001b[0m         )\n\u001b[0;32m    853\u001b[0m \u001b[1;33m\u001b[0m\u001b[0m\n",
      "\u001b[1;32mc:\\users\\hong0\\.conda\\envs\\py36\\lib\\site-packages\\ipykernel\\kernelbase.py\u001b[0m in \u001b[0;36m_input_request\u001b[1;34m(self, prompt, ident, parent, password)\u001b[0m\n\u001b[0;32m    890\u001b[0m             \u001b[1;32mexcept\u001b[0m \u001b[0mKeyboardInterrupt\u001b[0m\u001b[1;33m:\u001b[0m\u001b[1;33m\u001b[0m\u001b[1;33m\u001b[0m\u001b[0m\n\u001b[0;32m    891\u001b[0m                 \u001b[1;31m# re-raise KeyboardInterrupt, to truncate traceback\u001b[0m\u001b[1;33m\u001b[0m\u001b[1;33m\u001b[0m\u001b[1;33m\u001b[0m\u001b[0m\n\u001b[1;32m--> 892\u001b[1;33m                 \u001b[1;32mraise\u001b[0m \u001b[0mKeyboardInterrupt\u001b[0m\u001b[1;33m(\u001b[0m\u001b[1;34m\"Interrupted by user\"\u001b[0m\u001b[1;33m)\u001b[0m \u001b[1;32mfrom\u001b[0m \u001b[1;32mNone\u001b[0m\u001b[1;33m\u001b[0m\u001b[1;33m\u001b[0m\u001b[0m\n\u001b[0m\u001b[0;32m    893\u001b[0m             \u001b[1;32mexcept\u001b[0m \u001b[0mException\u001b[0m \u001b[1;32mas\u001b[0m \u001b[0me\u001b[0m\u001b[1;33m:\u001b[0m\u001b[1;33m\u001b[0m\u001b[1;33m\u001b[0m\u001b[0m\n\u001b[0;32m    894\u001b[0m                 \u001b[0mself\u001b[0m\u001b[1;33m.\u001b[0m\u001b[0mlog\u001b[0m\u001b[1;33m.\u001b[0m\u001b[0mwarning\u001b[0m\u001b[1;33m(\u001b[0m\u001b[1;34m\"Invalid Message:\"\u001b[0m\u001b[1;33m,\u001b[0m \u001b[0mexc_info\u001b[0m\u001b[1;33m=\u001b[0m\u001b[1;32mTrue\u001b[0m\u001b[1;33m)\u001b[0m\u001b[1;33m\u001b[0m\u001b[1;33m\u001b[0m\u001b[0m\n",
      "\u001b[1;31mKeyboardInterrupt\u001b[0m: Interrupted by user"
     ]
    }
   ],
   "source": [
    "# =======================================================================\n",
    "# Every time the chatterbot reponses, the user need to justify whether the answer is good or not\n",
    "# If not, user inputs a new answer for the chatterbot to learn.\n",
    "# =======================================================================\n",
    "iss_chatbot = ChatBot('iss_chatbot',\n",
    "                  logic_adapters=[\n",
    "                      'chatterbot.logic.BestMatch'\n",
    "                  ])\n",
    "\n",
    "# Create a ListTrainer for training\n",
    "trainer = ListTrainer(iss_chatbot)\n",
    "\n",
    "# Load the NUS-ISS FAQ data and extract the question and answer\n",
    "data = pd.read_excel('faq/COVID_FAQ.xlsx', sheet_name='FAQ', engine='openpyxl')\n",
    "question = data.get('Queston')\n",
    "answer = data.get('Long_Answer')\n",
    "\n",
    "# Iteratively adding the question and answer\n",
    "train_list = []\n",
    "for i in range(len(question)):\n",
    "    train_list.append(question[i])\n",
    "    train_list.append(answer[i])\n",
    "for i in range(0, 3):\n",
    "    print('[Q]', question[i], '\\n[A]', answer[i], '\\n\\n')\n",
    "trainer.train(train_list)\n",
    "\n",
    "print(\"Hi! I am NUS-ISS FAQ chatbot. Do you have any questions?\")\n",
    "user_question = input(\"Please type your question here(enter bye to exit): \")\n",
    "while(user_question != \"bye\"):\n",
    "    response = iss_chatbot.get_response(user_question)\n",
    "    print(response)\n",
    "    user_justify = input(\"Are you satisfied with my anwser? (Yes or No, others will exit)\")\n",
    "    if user_justify == 'No':\n",
    "        user_correct = input(\"Please input your anwser: \")\n",
    "        new_trainer = ListTrainer(iss_chatbot)\n",
    "        new_train_list = [\n",
    "            user_question,\n",
    "            user_correct]\n",
    "\n",
    "        new_trainer.train(new_train_list)\n",
    "    elif user_justify != 'Yes':\n",
    "        break\n",
    "    user_question = input(\"Please type your question here(enter bye to exit): \")\n"
   ]
  },
  {
   "cell_type": "code",
   "execution_count": null,
   "metadata": {},
   "outputs": [],
   "source": []
  }
 ],
 "metadata": {
  "kernelspec": {
   "display_name": "Python 3",
   "language": "python",
   "name": "python3"
  },
  "language_info": {
   "codemirror_mode": {
    "name": "ipython",
    "version": 3
   },
   "file_extension": ".py",
   "mimetype": "text/x-python",
   "name": "python",
   "nbconvert_exporter": "python",
   "pygments_lexer": "ipython3",
   "version": "3.6.13"
  }
 },
 "nbformat": 4,
 "nbformat_minor": 4
}
