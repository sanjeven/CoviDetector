{
 "cells": [
  {
   "cell_type": "code",
   "execution_count": 1,
   "metadata": {},
   "outputs": [],
   "source": [
    "# -*- coding: utf-8 -*-\n",
    "import chatterbot.corpus\n",
    "from chatterbot import comparisons\n",
    "from chatterbot import response_selection\n",
    "from chatterbot import ChatBot\n",
    "from chatterbot.comparisons import LevenshteinDistance\n",
    "from chatterbot.response_selection import get_first_response\n",
    "from chatterbot.trainers import ChatterBotCorpusTrainer\n",
    "from chatterbot.trainers import ListTrainer\n",
    "import pandas as pd\n",
    "import numpy as np\n",
    "import random\n",
    "import string\n",
    "import sklearn\n",
    "from sklearn.feature_extraction import text\n",
    "from sklearn.feature_extraction.text import TfidfVectorizer\n",
    "from sklearn.metrics.pairwise import cosine_similarity\n",
    "import glob\n",
    "import os\n",
    "import nltk\n",
    "import logging\n",
    "logging.basicConfig(level=logging.INFO)\n",
    "\n",
    "# first-time use only\n",
    "# nltk.download('punkt') \n",
    "\n",
    "# first-time use only\n",
    "# nltk.download('wordnet')"
   ]
  },
  {
   "cell_type": "code",
   "execution_count": 2,
   "metadata": {},
   "outputs": [],
   "source": [
    "def faq_chatbot_initialize(chatbot_name, threshold=0.9, excel_path='data/COVID_FAQ.xlsx', worksheet_name='FAQ'):\n",
    "    covid_faq_chatbot = ChatBot(\n",
    "        chatbot_name,\n",
    "        logic_adapters=[\n",
    "            {\n",
    "                \"import_path\": \"chatterbot.logic.BestMatch\",\n",
    "                \"statement_comparison_function\": LevenshteinDistance,\n",
    "                \"response_selection_method\": get_first_response,\n",
    "                \"maximum_similarity_threshold\": threshold\n",
    "            }\n",
    "        ],\n",
    "        preprocessors=[\n",
    "            'chatterbot.preprocessors.clean_whitespace'\n",
    "        ],\n",
    "        read_only=True,\n",
    "    )\n",
    "    trainer = ListTrainer(covid_faq_chatbot)\n",
    "    #trainer.train(\"chatterbot.corpus.english\")\n",
    "    # read questions and answers\n",
    "    data = pd.read_excel(excel_path, sheet_name=worksheet_name, engine='openpyxl')\n",
    "    question = data.get('Queston')\n",
    "    answer = data.get('Long_Answer')\n",
    "\n",
    "    #for i in range(0, 3):\n",
    "    #    print('[Q]', question[i], '\\n[A]', answer[i], '\\n\\n')\n",
    "\n",
    "    # Iteratively adding the question and answer\n",
    "    train_list = []\n",
    "    for i in range(len(question)):\n",
    "        train_list.append(question[i])\n",
    "        train_list.append(answer[i])\n",
    "    # train the faq\n",
    "    trainer.train(train_list)\n",
    "    trainer.export_for_training('data/covid.yml')\n",
    "    return covid_faq_chatbot\n",
    "\n",
    "\n"
   ]
  },
  {
   "cell_type": "code",
   "execution_count": 3,
   "metadata": {},
   "outputs": [],
   "source": [
    "class NLP_Chatbot:\n",
    "    \n",
    "    def __init__(self, name, file_path):\n",
    "        self.name = name\n",
    "        self.file_path = file_path\n",
    "        self.sents = self.generate_sents()\n",
    "        self.TfidfVec, self.tfidf = self.generate_tfidf()\n",
    "\n",
    "    def generate_sents(self):\n",
    "        raw = []\n",
    "        for filename in glob.glob(os.path.join(self.file_path, '*.txt')):\n",
    "            with open(os.path.join(os.getcwd(), filename), 'r') as f: # open in readonly mode\n",
    "                # do your stuff\n",
    "                lines = f.readlines()\n",
    "            raw.extend(lines)\n",
    "        sents = [ nltk.sent_tokenize(r) for r in raw ] # converts each paragraph to a list of sentences \n",
    "        sents = [ s for sent in sents for s in sent  ] # flatten the list\n",
    "        return sents\n",
    "    \n",
    "    def generate_tfidf(self):\n",
    "\n",
    "        # prepare for lemmatization\n",
    "        WNL = nltk.stem.WordNetLemmatizer()\n",
    "        #for handling some known bugs while not using POS tag info.\n",
    "        exceptions = ['has', 'was', 'as', 'us', 'less']\n",
    "        def MyNormalize(text):\n",
    "            tokens=nltk.word_tokenize(text.lower())\n",
    "            tokens=[ t for t in tokens if t not in string.punctuation ]\n",
    "            toks = [WNL.lemmatize(t) if t not in exceptions else t for t in tokens  ]\n",
    "            return toks\n",
    "        # Prepare a preprocessing function that will do tokenization,\n",
    "        # case lowering, punctuation removal, and lemmatization\n",
    "        my_stop_words = text.ENGLISH_STOP_WORDS\n",
    "\n",
    "        # preprocess the sentences in data, remove stop words, and create a tf-idf vector\n",
    "        TfidfVec = TfidfVectorizer(tokenizer=MyNormalize, stop_words=my_stop_words)\n",
    "        tfidf = TfidfVec.fit_transform(self.sents)\n",
    "        return TfidfVec, tfidf\n",
    "    \n",
    "    # function to match input to the preprocessed sentences\n",
    "    def get_response(self, user_response):\n",
    "        robo_response=''\n",
    "        new = self.TfidfVec.transform([user_response])\n",
    "        vals = cosine_similarity(new[0], self.tfidf)\n",
    "        idx=vals.argsort()[0][-1]\n",
    "        flat = vals.flatten()\n",
    "        flat.sort()\n",
    "        req_tfidf = flat[-1]\n",
    "        if(req_tfidf==0):\n",
    "            robo_response=robo_response+\"I am sorry! I don't understand you.\"\n",
    "            return robo_response\n",
    "        else:\n",
    "            robo_response = robo_response+self.sents[idx]\n",
    "            return robo_response    \n",
    "    \n",
    "\n"
   ]
  },
  {
   "cell_type": "code",
   "execution_count": 4,
   "metadata": {},
   "outputs": [],
   "source": [
    "def nlp_chatbot_initialize(chatbot_name,file_path='data/'):\n",
    "    chatbot = NLP_Chatbot(chatbot_name, file_path)\n",
    "    return chatbot\n"
   ]
  },
  {
   "cell_type": "code",
   "execution_count": 5,
   "metadata": {},
   "outputs": [],
   "source": [
    "def get_answer(faq_chatbot, nlp_chatbot, question, threshold=0.6):  # let's get a response to our input\n",
    "    # try suggested corpora to find best fit. If first corpus < theshold, try another.\n",
    "    # avoid random responses confidence 0\n",
    "    response = faq_chatbot.get_response(question)\n",
    "    if  response.confidence < threshold:  # not a good answer, look elsewhere\n",
    "        response = nlp_chatbot.get_response(question)\n",
    "    return response\n",
    "#import logginglogging.basicConfig(level=logging.INFO)    # Enable info level logging\n"
   ]
  },
  {
   "cell_type": "code",
   "execution_count": 6,
   "metadata": {},
   "outputs": [
    {
     "name": "stdout",
     "output_type": "stream",
     "text": [
      "List Trainer: [####################] 100%\n"
     ]
    }
   ],
   "source": [
    "data_path = 'data/'\n",
    "excel_name = 'COVID_FAQ.xlsx'\n",
    "worksheet_name = 'FAQ'\n",
    "\n",
    "\n",
    "covid_faq_chatbot = faq_chatbot_initialize(\"Covid FAQ Chat Bot\", excel_path=data_path+excel_name, worksheet_name=worksheet_name)\n",
    "covid_nlp_chatbot = nlp_chatbot_initialize(\"Covid NLP Chat Bot\", data_path)\n",
    "\n"
   ]
  },
  {
   "cell_type": "code",
   "execution_count": 8,
   "metadata": {},
   "outputs": [
    {
     "name": "stderr",
     "output_type": "stream",
     "text": [
      "INFO:chatterbot.chatterbot:Beginning search for close text match\n",
      "INFO:chatterbot.chatterbot:Processing search results\n",
      "INFO:chatterbot.chatterbot:Using \"what does Conversational AI refer to?\" as a close match to \"what does Conversational AI refer to?\" with a confidence of 0\n",
      "INFO:chatterbot.chatterbot:No responses found. Generating alternate response list.\n",
      "INFO:chatterbot.chatterbot:No known response to the input was found. Selecting a random response.\n",
      "INFO:chatterbot.chatterbot:BestMatch selected \"No. As each international mass gathering is different, the factors to consider when determining if the event should be cancelled may also differ.\" as a response with a confidence of 0\n"
     ]
    },
    {
     "name": "stdout",
     "output_type": "stream",
     "text": [
      "A chatbot (also known as a spy, conversational bot, chatterbot, interactive agent, conversational interface, Conversational AI, talkbot or artificial spy entity) is a computer program or an artificial intelligence which conducts a conversation via auditory or textual methods.\n"
     ]
    }
   ],
   "source": [
    "threshold=0.6\n",
    "#question = \"How to protect pregnant women against COVID-19?\"\n",
    "question = \"what does Conversational AI refer to?\"\n",
    "\n",
    "print(get_answer(covid_faq_chatbot, covid_nlp_chatbot, question, threshold))"
   ]
  },
  {
   "cell_type": "code",
   "execution_count": 31,
   "metadata": {},
   "outputs": [],
   "source": [
    "#prepare some greeting words\n",
    "GREETING_INPUTS = (\"hello\", \"hi\", \"greetings\", \"sup\", \"what's up\",\"hey\",)\n",
    "GREETING_RESPONSES = [\"hi\", \"hey\", \"*nods*\", \"hi there\", \"hello\", \"I am glad! You are talking to me\"]\n",
    "def greeting(sentence): \n",
    "    for word in sentence.split():\n",
    "        if word.lower() in GREETING_INPUTS:\n",
    "            return random.choice(GREETING_RESPONSES)\n",
    "\n",
    "\n",
    "\n",
    "\n"
   ]
  },
  {
   "cell_type": "code",
   "execution_count": null,
   "metadata": {},
   "outputs": [],
   "source": [
    "#starting the bot\n",
    "flag=True\n",
    "print(\"CHATTY: My name is CHATTY. I will answer your queries about Chatbots. If you want to exit, type Bye!\")\n",
    "while(flag==True):\n",
    "    user_response = input()\n",
    "    user_response=user_response.lower()\n",
    "    if(user_response!='bye'):\n",
    "        if(user_response=='thanks' or user_response=='thank you' ):\n",
    "            flag=False\n",
    "            print(\"CHATTY: You are welcome..\")\n",
    "        else:\n",
    "            if(greeting(user_response)!=None):\n",
    "                print(\"CHATTY: \"+greeting(user_response))\n",
    "            else:\n",
    "                print(\"CHATTY: \",end=\"\")\n",
    "                print(get_answer(covid_faq_chatbot, covid_nlp_chatbot, user_response, threshold))\n",
    "    else:\n",
    "        flag=False\n",
    "        print(\"CHATTY: Bye! take care...\")\n",
    "        \n",
    "# now chat with your bot...\n",
    "# you may experiment with different similarity functions"
   ]
  },
  {
   "cell_type": "code",
   "execution_count": null,
   "metadata": {},
   "outputs": [],
   "source": [
    "d = {'key':'value'}\n",
    "d['faq'] = covid_faq_chatbot\n",
    "d['nlp'] = covid_nlp_chatbot\n",
    "print(d)"
   ]
  },
  {
   "cell_type": "code",
   "execution_count": 9,
   "metadata": {},
   "outputs": [
    {
     "ename": "AttributeError",
     "evalue": "'ChatBot' object has no attribute 'trainer'",
     "output_type": "error",
     "traceback": [
      "\u001b[1;31m---------------------------------------------------------------------------\u001b[0m",
      "\u001b[1;31mAttributeError\u001b[0m                            Traceback (most recent call last)",
      "\u001b[1;32m<ipython-input-9-3a4a6457d84f>\u001b[0m in \u001b[0;36m<module>\u001b[1;34m\u001b[0m\n\u001b[1;32m----> 1\u001b[1;33m \u001b[0mcovid_faq_chatbot\u001b[0m\u001b[1;33m.\u001b[0m\u001b[0mtrainer\u001b[0m\u001b[1;33m.\u001b[0m\u001b[0mexport_for_training\u001b[0m\u001b[1;33m(\u001b[0m\u001b[1;34m'./covid.yml'\u001b[0m\u001b[1;33m)\u001b[0m\u001b[1;33m\u001b[0m\u001b[1;33m\u001b[0m\u001b[0m\n\u001b[0m",
      "\u001b[1;31mAttributeError\u001b[0m: 'ChatBot' object has no attribute 'trainer'"
     ]
    }
   ],
   "source": [
    "covid_faq_chatbot.trainer.export_for_training('./covid.yml')"
   ]
  },
  {
   "cell_type": "code",
   "execution_count": 11,
   "metadata": {},
   "outputs": [
    {
     "ename": "AttributeError",
     "evalue": "'ChatBot' object has no attribute 'train'",
     "output_type": "error",
     "traceback": [
      "\u001b[1;31m---------------------------------------------------------------------------\u001b[0m",
      "\u001b[1;31mAttributeError\u001b[0m                            Traceback (most recent call last)",
      "\u001b[1;32m<ipython-input-11-088341c19011>\u001b[0m in \u001b[0;36m<module>\u001b[1;34m\u001b[0m\n\u001b[0;32m     16\u001b[0m     ]\n\u001b[0;32m     17\u001b[0m )\n\u001b[1;32m---> 18\u001b[1;33m \u001b[0mchatbot\u001b[0m\u001b[1;33m.\u001b[0m\u001b[0mtrain\u001b[0m\u001b[1;33m(\u001b[0m\u001b[1;34m'data/covid.yml'\u001b[0m\u001b[1;33m)\u001b[0m\u001b[1;33m\u001b[0m\u001b[1;33m\u001b[0m\u001b[0m\n\u001b[0m\u001b[0;32m     19\u001b[0m \u001b[0mquestion\u001b[0m \u001b[1;33m=\u001b[0m \u001b[1;34m\"How to pretect pregnant women against COVID-19?\"\u001b[0m\u001b[1;33m\u001b[0m\u001b[1;33m\u001b[0m\u001b[0m\n\u001b[0;32m     20\u001b[0m \u001b[0mchatbot\u001b[0m\u001b[1;33m.\u001b[0m\u001b[0mget_response\u001b[0m\u001b[1;33m(\u001b[0m\u001b[0mquestion\u001b[0m\u001b[1;33m)\u001b[0m\u001b[1;33m\u001b[0m\u001b[1;33m\u001b[0m\u001b[0m\n",
      "\u001b[1;31mAttributeError\u001b[0m: 'ChatBot' object has no attribute 'train'"
     ]
    }
   ],
   "source": [
    "chatbot = ChatBot(\n",
    "    'Covid FAQ Chat Bot',\n",
    "\n",
    "    logic_adapters= [\n",
    "            {\n",
    "                \"import_path\": \"chatterbot.logic.BestMatch\",\n",
    "                \"statement_comparison_function\": \"chatterbot.comparisons.LevenshteinDistance\",\n",
    "                \"response_selection_method\": \"chatterbot.response_selection.get_first_response\",\n",
    "                \"maximum_similarity_threshold\": 0.9\n",
    "            }\n",
    "    ],\n",
    "    read_only=True,\n",
    "    trainer= 'chatterbot.trainers.ListTrainer',\n",
    "    training_data= [\n",
    "         'chatterbot.corpus.custom.covid'\n",
    "    ]\n",
    ")\n",
    "chatbot.train('data/covid.yml')\n",
    "question = \"How to protect pregnant women against COVID-19?\"\n",
    "chatbot.get_response(question)"
   ]
  },
  {
   "cell_type": "code",
   "execution_count": null,
   "metadata": {},
   "outputs": [],
   "source": []
  }
 ],
 "metadata": {
  "kernelspec": {
   "display_name": "Python 3",
   "language": "python",
   "name": "python3"
  },
  "language_info": {
   "codemirror_mode": {
    "name": "ipython",
    "version": 3
   },
   "file_extension": ".py",
   "mimetype": "text/x-python",
   "name": "python",
   "nbconvert_exporter": "python",
   "pygments_lexer": "ipython3",
   "version": "3.6.13"
  }
 },
 "nbformat": 4,
 "nbformat_minor": 4
}
